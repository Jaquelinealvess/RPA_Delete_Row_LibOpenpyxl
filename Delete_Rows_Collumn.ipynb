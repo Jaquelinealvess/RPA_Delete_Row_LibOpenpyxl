{
 "cells": [
  {
   "cell_type": "code",
   "execution_count": 1,
   "id": "fd5975b3",
   "metadata": {},
   "outputs": [
    {
     "name": "stdout",
     "output_type": "stream",
     "text": [
      "Defaulting to user installation because normal site-packages is not writeable\n",
      "Requirement already satisfied: openpyxl in c:\\programdata\\anaconda3\\lib\\site-packages (3.0.9)\n",
      "Requirement already satisfied: et-xmlfile in c:\\programdata\\anaconda3\\lib\\site-packages (from openpyxl) (1.1.0)\n"
     ]
    },
    {
     "name": "stderr",
     "output_type": "stream",
     "text": [
      "WARNING: Ignoring invalid distribution -andas (c:\\programdata\\anaconda3\\lib\\site-packages)\n",
      "WARNING: Ignoring invalid distribution -andas (c:\\programdata\\anaconda3\\lib\\site-packages)\n",
      "WARNING: Ignoring invalid distribution -andas (c:\\programdata\\anaconda3\\lib\\site-packages)\n",
      "WARNING: Ignoring invalid distribution -andas (c:\\programdata\\anaconda3\\lib\\site-packages)\n"
     ]
    }
   ],
   "source": [
    "!pip install openpyxl"
   ]
  },
  {
   "cell_type": "code",
   "execution_count": 8,
   "id": "15f60cef",
   "metadata": {},
   "outputs": [],
   "source": [
    "from openpyxl import load_workbook\n",
    "import os \n",
    "\n",
    "# abrindo arquivo excel\n",
    "caminho_nome_arquivo = \"C:\\\\Users\\\\jasantos\\\\Curso RPA\\\\RPA_Delet_Row_Lib_Openpyxl\\\\DeletarLinhaColuna.xlsx\"\n",
    "planilha_aberta = load_workbook(filename=caminho_nome_arquivo)\n",
    "\n",
    "# seleciona a sheet com nome Aluno\n",
    "sheet_selecionada = planilha_aberta['Aluno']\n",
    "\n",
    "# deletando as linhas especificadas\n",
    "sheet_selecionada.delete_rows(3)\n",
    "sheet_selecionada.delete_rows(3)\n",
    "sheet_selecionada.delete_rows(5)\n",
    "\n",
    "# deletando coluna 1 = coluna A\n",
    "sheet_selecionada.delete_cols(1)\n",
    "\n",
    "# salva a planilha com as alterações\n",
    "planilha_aberta.save(filename=caminho_nome_arquivo)\n",
    "\n",
    "# abre a planilha\n",
    "os.startfile(caminho_nome_arquivo) \n"
   ]
  }
 ],
 "metadata": {
  "kernelspec": {
   "display_name": "Python 3 (ipykernel)",
   "language": "python",
   "name": "python3"
  },
  "language_info": {
   "codemirror_mode": {
    "name": "ipython",
    "version": 3
   },
   "file_extension": ".py",
   "mimetype": "text/x-python",
   "name": "python",
   "nbconvert_exporter": "python",
   "pygments_lexer": "ipython3",
   "version": "3.9.12"
  }
 },
 "nbformat": 4,
 "nbformat_minor": 5
}
